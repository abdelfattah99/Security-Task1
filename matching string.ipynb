{
  "cells": [
    {
      "cell_type": "markdown",
      "metadata": {
        "id": "view-in-github",
        "colab_type": "text"
      },
      "source": [
        "<a href=\"https://colab.research.google.com/github/abdelfattah99/Security-Task1/blob/main/matching%20string.ipynb\" target=\"_parent\"><img src=\"https://colab.research.google.com/assets/colab-badge.svg\" alt=\"Open In Colab\"/></a>"
      ]
    },
    {
      "cell_type": "markdown",
      "id": "2cf62078",
      "metadata": {
        "id": "2cf62078"
      },
      "source": [
        "##### Fuzzy Logic matching string\n",
        "fuzzy logic is the simplest method in case of string matching or we can say comparing the string. The library used in this is called fuzzywuzzy library where we can have a score out of 100 which will denote the two strings are equal by giving similarity index.It is process of finding strings that matches given pattern.Levenshtein distance is used in it for calculation of the difference between the sequences"
      ]
    },
    {
      "cell_type": "code",
      "source": [
        "!pip install fuzzywuzzy\n"
      ],
      "metadata": {
        "colab": {
          "base_uri": "https://localhost:8080/"
        },
        "id": "wCJlduu6z0P7",
        "outputId": "b6834a95-dea5-4a07-858c-244a95510bd1"
      },
      "id": "wCJlduu6z0P7",
      "execution_count": 14,
      "outputs": [
        {
          "output_type": "stream",
          "name": "stdout",
          "text": [
            "Looking in indexes: https://pypi.org/simple, https://us-python.pkg.dev/colab-wheels/public/simple/\n",
            "Requirement already satisfied: fuzzywuzzy in /usr/local/lib/python3.10/dist-packages (0.18.0)\n"
          ]
        }
      ]
    },
    {
      "cell_type": "code",
      "execution_count": 15,
      "id": "ece1198f",
      "metadata": {
        "id": "ece1198f"
      },
      "outputs": [],
      "source": [
        "from fuzzywuzzy import fuzz"
      ]
    },
    {
      "cell_type": "code",
      "execution_count": 16,
      "id": "2422c868",
      "metadata": {
        "id": "2422c868"
      },
      "outputs": [],
      "source": [
        "from fuzzywuzzy import process"
      ]
    },
    {
      "cell_type": "code",
      "execution_count": 18,
      "id": "38d686d6",
      "metadata": {
        "colab": {
          "base_uri": "https://localhost:8080/"
        },
        "id": "38d686d6",
        "outputId": "84822f8b-57ae-4d1a-a286-184f17069a03"
      },
      "outputs": [
        {
          "output_type": "execute_result",
          "data": {
            "text/plain": [
              "80"
            ]
          },
          "metadata": {},
          "execution_count": 18
        }
      ],
      "source": [
        "#compare the entire string in order\n",
        "fuzz.ratio(\"Tamer\",\"tamer\")"
      ]
    },
    {
      "cell_type": "code",
      "execution_count": 20,
      "id": "81864687",
      "metadata": {
        "colab": {
          "base_uri": "https://localhost:8080/"
        },
        "id": "81864687",
        "outputId": "311aec52-4904-455b-c428-dc31ca83c9ed"
      },
      "outputs": [
        {
          "output_type": "execute_result",
          "data": {
            "text/plain": [
              "100"
            ]
          },
          "metadata": {},
          "execution_count": 20
        }
      ],
      "source": [
        "fuzz.ratio(\"Hello fuzzy logical\",\"Hello fuzzy logical\")"
      ]
    },
    {
      "cell_type": "code",
      "execution_count": 21,
      "id": "f0db2c96",
      "metadata": {
        "colab": {
          "base_uri": "https://localhost:8080/"
        },
        "id": "f0db2c96",
        "outputId": "b8984fc3-d2dd-4a32-d0e9-37c9cd9438e7"
      },
      "outputs": [
        {
          "output_type": "stream",
          "name": "stdout",
          "text": [
            "Lets see the ratio for string matching: 91 \n",
            "\n",
            "Lets see the ratio for string matching: 100 \n",
            "\n",
            "Lets see the ratio for string matching: 83\n"
          ]
        }
      ],
      "source": [
        "print(\"Lets see the ratio for string matching:\",\n",
        "      fuzz.ratio('Fuzzy for String Matching', 'Fuzzy String Matching'), '\\n')\n",
        "print(\"Lets see the ratio for string matching:\",\n",
        "      fuzz.ratio('This is an NLP Session', 'This is an NLP Session'),'\\n')\n",
        "print(\"Lets see the ratio for string matching:\",\n",
        "      fuzz.ratio('your learning fuzzywuzzy', 'Your Learning FuzzyWuzzy'))"
      ]
    },
    {
      "cell_type": "code",
      "execution_count": 22,
      "id": "24944477",
      "metadata": {
        "colab": {
          "base_uri": "https://localhost:8080/"
        },
        "id": "24944477",
        "outputId": "dd9a96dd-3476-486d-8ccf-60bf7b8c9984"
      },
      "outputs": [
        {
          "output_type": "stream",
          "name": "stdout",
          "text": [
            "Lets see the partial ratio for string matching: 100 \n",
            "\n",
            "Lets see the partial ratio for string matching: 80 \n",
            "\n"
          ]
        }
      ],
      "source": [
        "#partial ratio compare subsections of the string\n",
        "#a Exclamation mark words are same\n",
        "#there is an extra token present in the first string\n",
        "print(\"Lets see the partial ratio for string matching:\",\n",
        "      fuzz.partial_ratio('Jon is eating', 'Jon is eating !'), '\\n')\n",
        "print(\"Lets see the partial ratio for string matching:\",\n",
        "      fuzz.partial_ratio('Mark is walking on streets', 'Mark walking streets'),'\\n')"
      ]
    },
    {
      "cell_type": "code",
      "execution_count": 23,
      "id": "21dcabee",
      "metadata": {
        "colab": {
          "base_uri": "https://localhost:8080/"
        },
        "id": "21dcabee",
        "outputId": "9258e4bf-5e35-4586-8f5c-810d60da548d"
      },
      "outputs": [
        {
          "output_type": "stream",
          "name": "stdout",
          "text": [
            "Lets see the token sort ratio for string matching: 100 \n",
            "\n",
            "Lets see the token set ratio for string matching: 100\n"
          ]
        }
      ],
      "source": [
        "#Token set ratio and token sort ratio\n",
        "#osition not matters when words are same\n",
        "#tokeset ratio it considers duplicate words as a single word.\n",
        "print(\"Lets see the token sort ratio for string matching:\",\n",
        "       fuzz.token_set_ratio(\"for every one\", \"every one for\"), '\\n')\n",
        "print(\"Lets see the token set ratio for string matching:\",\n",
        "      fuzz.token_set_ratio(\"This is done\", \"This is done done\"))"
      ]
    },
    {
      "cell_type": "code",
      "execution_count": 25,
      "id": "5dd58f57",
      "metadata": {
        "colab": {
          "base_uri": "https://localhost:8080/"
        },
        "id": "5dd58f57",
        "outputId": "ff096554-819a-4525-83ae-110316042beb"
      },
      "outputs": [
        {
          "output_type": "stream",
          "name": "stdout",
          "text": [
            "Lets see the Wratio for string matching: 100 \n",
            "\n",
            "Lets see the Wratio for string matching: 100\n"
          ]
        }
      ],
      "source": [
        "#WRatio handles lower and upper cases and some other parameters too\n",
        "print(\"Lets see the Wratio for string matching:\",\n",
        "      fuzz.WRatio(\"This is good\", \"This Is Good\"), '\\n')\n",
        "print(\"Lets see the Wratio for string matching:\",\n",
        "      fuzz.WRatio(\"Sometimes Good is Bad!!!\", \"Sometimes good is bad\"))"
      ]
    },
    {
      "cell_type": "code",
      "execution_count": null,
      "id": "2c8560d6",
      "metadata": {
        "id": "2c8560d6"
      },
      "outputs": [],
      "source": []
    }
  ],
  "metadata": {
    "kernelspec": {
      "display_name": "Python 3 (ipykernel)",
      "language": "python",
      "name": "python3"
    },
    "language_info": {
      "codemirror_mode": {
        "name": "ipython",
        "version": 3
      },
      "file_extension": ".py",
      "mimetype": "text/x-python",
      "name": "python",
      "nbconvert_exporter": "python",
      "pygments_lexer": "ipython3",
      "version": "3.9.7"
    },
    "colab": {
      "provenance": [],
      "include_colab_link": true
    }
  },
  "nbformat": 4,
  "nbformat_minor": 5
}