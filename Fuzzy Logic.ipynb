{
  "nbformat": 4,
  "nbformat_minor": 0,
  "metadata": {
    "colab": {
      "provenance": [],
      "authorship_tag": "ABX9TyOw8MK5jGc7yXOV2o66Vgbo",
      "include_colab_link": true
    },
    "kernelspec": {
      "name": "python3",
      "display_name": "Python 3"
    },
    "language_info": {
      "name": "python"
    }
  },
  "cells": [
    {
      "cell_type": "markdown",
      "metadata": {
        "id": "view-in-github",
        "colab_type": "text"
      },
      "source": [
        "<a href=\"https://colab.research.google.com/github/abdelfattah99/Security-Task1/blob/main/Fuzzy%20Logic.ipynb\" target=\"_parent\"><img src=\"https://colab.research.google.com/assets/colab-badge.svg\" alt=\"Open In Colab\"/></a>"
      ]
    },
    {
      "cell_type": "code",
      "execution_count": null,
      "metadata": {
        "id": "bW8LBTwpKMWr"
      },
      "outputs": [],
      "source": [
        "!pip install --upgrade scikit-fuzzy\n",
        "\n",
        "\n",
        "import numpy as np\n",
        "import skfuzzy as fuzz\n",
        "from skfuzzy import control as ctrl\n",
        "\n",
        "\n",
        "\n",
        "# Create fuzzy variables\n",
        "temperature = ctrl.Antecedent(np.arange(0, 101, 1), 'temperature')\n",
        "fan_speed = ctrl.Consequent(np.arange(0, 101, 1), 'fan_speed')\n",
        "\n",
        "# Define membership functions\n",
        "temperature['low'] = fuzz.trimf(temperature.universe, [0, 0, 50])\n",
        "temperature['medium'] = fuzz.trimf(temperature.universe, [0, 50, 100])\n",
        "temperature['high'] = fuzz.trimf(temperature.universe, [50, 100, 100])\n",
        "\n",
        "fan_speed['low'] = fuzz.trimf(fan_speed.universe, [0, 0, 50])\n",
        "fan_speed['medium'] = fuzz.trimf(fan_speed.universe, [0, 50, 100])\n",
        "fan_speed['high'] = fuzz.trimf(fan_speed.universe, [50, 100, 100])\n",
        "\n",
        "# Define fuzzy rules\n",
        "rule1 = ctrl.Rule(temperature['low'], fan_speed['low'])\n",
        "rule2 = ctrl.Rule(temperature['medium'], fan_speed['medium'])\n",
        "rule3 = ctrl.Rule(temperature['high'], fan_speed['high'])\n",
        "\n",
        "# Create fuzzy system\n",
        "fan_ctrl = ctrl.ControlSystem([rule1, rule2, rule3])\n",
        "fan = ctrl.ControlSystemSimulation(fan_ctrl)\n",
        "\n",
        "# Set input\n",
        "fan.input['temperature'] = 75\n",
        "\n",
        "# Evaluate the fuzzy system\n",
        "fan.compute()\n",
        "\n",
        "# Print the output\n",
        "print(fan.output['fan_speed'])\n",
        "\n",
        "# Plot the membership functions and the output\n",
        "temperature.view()\n",
        "fan_speed.view()\n",
        "\n"
      ]
    }
  ]
}