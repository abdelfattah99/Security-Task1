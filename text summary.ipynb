{
  "nbformat": 4,
  "nbformat_minor": 0,
  "metadata": {
    "colab": {
      "provenance": [],
      "authorship_tag": "ABX9TyNdP1zRcxnGXXXl+k6mZZCf",
      "include_colab_link": true
    },
    "kernelspec": {
      "name": "python3",
      "display_name": "Python 3"
    },
    "language_info": {
      "name": "python"
    }
  },
  "cells": [
    {
      "cell_type": "markdown",
      "metadata": {
        "id": "view-in-github",
        "colab_type": "text"
      },
      "source": [
        "<a href=\"https://colab.research.google.com/github/abdelfattah99/Security-Task1/blob/main/text%20summary.ipynb\" target=\"_parent\"><img src=\"https://colab.research.google.com/assets/colab-badge.svg\" alt=\"Open In Colab\"/></a>"
      ]
    },
    {
      "cell_type": "code",
      "execution_count": 10,
      "metadata": {
        "colab": {
          "base_uri": "https://localhost:8080/"
        },
        "id": "Y9K51K1GHlW3",
        "outputId": "c308cca2-40d9-451d-caed-a7a754b8ba68"
      },
      "outputs": [
        {
          "output_type": "stream",
          "name": "stdout",
          "text": [
            "Looking in indexes: https://pypi.org/simple, https://us-python.pkg.dev/colab-wheels/public/simple/\n",
            "Requirement already satisfied: scikit-fuzzy in /usr/local/lib/python3.10/dist-packages (0.4.2)\n",
            "Requirement already satisfied: numpy>=1.6.0 in /usr/local/lib/python3.10/dist-packages (from scikit-fuzzy) (1.22.4)\n",
            "Requirement already satisfied: scipy>=0.9.0 in /usr/local/lib/python3.10/dist-packages (from scikit-fuzzy) (1.10.1)\n",
            "Requirement already satisfied: networkx>=1.9.0 in /usr/local/lib/python3.10/dist-packages (from scikit-fuzzy) (3.1)\n"
          ]
        }
      ],
      "source": [
        "!pip install --upgrade scikit-fuzzy"
      ]
    },
    {
      "cell_type": "code",
      "source": [
        "import numpy as np\n",
        "import skfuzzy as fuzz\n"
      ],
      "metadata": {
        "id": "XUqFsQsKHpoO"
      },
      "execution_count": 11,
      "outputs": []
    },
    {
      "cell_type": "code",
      "source": [
        "# Step 1: Define the linguistic variables and membership functions\n",
        "sentences = np.arange(0, 11, 1)\n",
        "importance = np.arange(0, 11, 1)\n",
        "\n",
        "# Define membership functions for sentences\n",
        "low = fuzz.trimf(sentences, [0, 0, 5])\n",
        "medium = fuzz.trimf(sentences, [2, 5, 8])\n",
        "high = fuzz.trimf(sentences, [5, 10, 10])\n",
        "\n",
        "# Define membership functions for importance\n",
        "low_importance = fuzz.trimf(importance, [0, 0, 5])\n",
        "medium_importance = fuzz.trimf(importance, [2, 5, 8])\n",
        "high_importance = fuzz.trimf(importance, [5, 10, 10])\n",
        "\n"
      ],
      "metadata": {
        "id": "W4TpPGP8HrMw"
      },
      "execution_count": 12,
      "outputs": []
    },
    {
      "cell_type": "code",
      "source": [
        "# Step 2: Fuzzy Inference\n",
        "def fuzzy_inference(sentence_score, importance_score):\n",
        "    aggregated = np.fmin(sentence_score, importance_score)\n",
        "    return aggregated\n"
      ],
      "metadata": {
        "id": "2H3JhyoiHwvI"
      },
      "execution_count": 13,
      "outputs": []
    },
    {
      "cell_type": "code",
      "source": [
        "# Step 3: Text Summarization\n",
        "def generate_summary(sentences, importance_scores):\n",
        "    summary_score = np.zeros_like(sentences)\n",
        "    for i in range(len(sentences)):\n",
        "        summary_score[i] = fuzzy_inference(sentences[i], importance_scores[i])\n",
        "\n",
        "    # Sort the sentences based on their summary scores\n",
        "    sorted_indices = np.argsort(summary_score)[::-1]\n",
        "    summary_length = min(3, len(sorted_indices))\n",
        "    summary_indices = sorted_indices[:summary_length]\n",
        "\n",
        "    return summary_indices\n",
        "\n",
        "# Example Usage\n",
        "sentences_scores = [7, 4, 9, 6, 5]  # Placeholder sentence scores\n",
        "importance_scores = [5, 8, 3, 7, 6]  # Placeholder importance scores\n"
      ],
      "metadata": {
        "id": "0nJiGdCAHyzV"
      },
      "execution_count": 14,
      "outputs": []
    },
    {
      "cell_type": "code",
      "source": [
        "# Generate the summary\n",
        "summary_indices = generate_summary(sentences_scores, importance_scores)\n"
      ],
      "metadata": {
        "id": "k3UGL-RRH1iq"
      },
      "execution_count": 15,
      "outputs": []
    },
    {
      "cell_type": "code",
      "source": [
        "# Print the summary sentences\n",
        "for index in summary_indices:\n",
        "    print(\"Sentence:\", index+1)  # Adjust index to match sentence numbering\n",
        "    print(\"Score:\", sentences_scores[index])\n",
        "    print(\"Importance:\", importance_scores[index])\n",
        "    print(\"------\")\n"
      ],
      "metadata": {
        "id": "MJFfqCReIHhg",
        "outputId": "d6f2c7b7-3bcd-4cd5-e171-e699ca787ea8",
        "colab": {
          "base_uri": "https://localhost:8080/"
        }
      },
      "execution_count": 16,
      "outputs": [
        {
          "output_type": "stream",
          "name": "stdout",
          "text": [
            "Sentence: 4\n",
            "Score: 6\n",
            "Importance: 7\n",
            "------\n",
            "Sentence: 5\n",
            "Score: 5\n",
            "Importance: 6\n",
            "------\n",
            "Sentence: 1\n",
            "Score: 7\n",
            "Importance: 5\n",
            "------\n"
          ]
        }
      ]
    }
  ]
}